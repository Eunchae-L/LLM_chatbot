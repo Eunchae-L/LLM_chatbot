{
  "nbformat": 4,
  "nbformat_minor": 0,
  "metadata": {
    "colab": {
      "provenance": [],
      "authorship_tag": "ABX9TyNZE8hIh3yTAwIIhTiZriQ3"
    },
    "kernelspec": {
      "name": "python3",
      "display_name": "Python 3"
    },
    "language_info": {
      "name": "python"
    }
  },
  "cells": [
    {
      "cell_type": "code",
      "source": [
        "!pip install streamlit\n",
        "!pip install openai\n",
        "!pip install pyngrok"
      ],
      "metadata": {
        "id": "DNsPV1FdlQ-X"
      },
      "execution_count": null,
      "outputs": []
    },
    {
      "cell_type": "code",
      "source": [
        "!ngrok authtoken"
      ],
      "metadata": {
        "id": "ZEkomXBClVtD"
      },
      "execution_count": null,
      "outputs": []
    },
    {
      "cell_type": "markdown",
      "source": [
        "현재 날씨 알려주는 챗봇 만들기"
      ],
      "metadata": {
        "id": "fE4lSZcqk_0P"
      }
    },
    {
      "cell_type": "markdown",
      "source": [
        "https://openweathermap.org/api"
      ],
      "metadata": {
        "id": "MoZ9A3L7lCWc"
      }
    },
    {
      "cell_type": "code",
      "execution_count": null,
      "metadata": {
        "id": "ZFjnUiLuk4k4"
      },
      "outputs": [],
      "source": [
        "# weathermap_api_key\n",
        "weather_api_key= \"_________________\""
      ]
    },
    {
      "cell_type": "code",
      "source": [
        "import requests\n",
        "\n",
        "def get_current_weather(location, format):\n",
        "  # OpenWeatherMap API 키를 'your_api_key_here' 자리에 실제 키로 교체하세요\n",
        "  api_key = 'your_api_key_here'\n",
        "  # 현재 날씨 정보를 위한 OpenWeatherMap API 엔드포인트\n",
        "  base_url = \"http://api.openweathermap.org/data/2.5/weather?\"\n",
        "\n",
        "  # API 요청을 위한 온도 단위 시스템을 포맷에 따라 변환\n",
        "  units = 'metric' if format == 'celsius' else 'imperial'\n",
        "\n",
        "  # 파라미터를 포함하여 완성된 API URL 구성\n",
        "  complete_url = f\"{base_url}appid={api_key}&q={location}&units={units}\"\n",
        "\n",
        "  # API 요청 수행\n",
        "  response = requests.get(complete_url)\n",
        "  print(response)\n",
        "  # 요청이 성공적이었는지 확인\n",
        "  if response.status_code == 200:\n",
        "    # 응답 JSON 파싱\n",
        "    data = response.json()\n",
        "\n",
        "    # 관련 날씨 정보 추출\n",
        "    temperature = data['main']['temp']\n",
        "    weather_description = data['weather'][0]['description']\n",
        "\n",
        "    # 결과 문자열 구성\n",
        "    result = (f\"'location':{location}, 'temperature':{temperature},'format':{format}, 'weather_description':{weather_description}\")\n",
        "    return result\n",
        "  else:\n",
        "    # 가능한 오류 처리(예: 위치를 찾을 수 없음)\n",
        "    return \"날씨 정보를 가져올 수 없습니다. 위치를 확인하고 다시 시도하세요.\""
      ],
      "metadata": {
        "id": "ykWGPXW5lGUB"
      },
      "execution_count": null,
      "outputs": []
    },
    {
      "cell_type": "code",
      "source": [
        "print(get_current_weather(location =\"seoul\",format=\"celsius\"))"
      ],
      "metadata": {
        "id": "VreAhCOplLkM"
      },
      "execution_count": null,
      "outputs": []
    },
    {
      "cell_type": "code",
      "source": [
        "tools = [\n",
        "  {\n",
        "    \"type\": \"function\",\n",
        "    \"function\": {\n",
        "      \"name\": \"get_current_weather\",\n",
        "      \"description\": \"현재 위치의 현재 날씨를 확인합니다.\",\n",
        "      \"parameters\": {\n",
        "        \"type\": \"object\",\n",
        "        \"properties\": {\n",
        "          \"location\": {\n",
        "            \"type\": \"string\",\n",
        "            \"description\": \"도시(예: 서울)\",\n",
        "          },\n",
        "          \"format\": {\n",
        "            \"type\": \"string\",\n",
        "            \"enum\": [\"celsius\", \"fahrenheit\"],\n",
        "            \"description\": \"사용할 온도 단위입니다. 사용자 위치에서 이를 유추합니다.\",\n",
        "          },\n",
        "        },\n",
        "        \"required\": [\"location\", \"format\"],\n",
        "      },\n",
        "    }\n",
        "  }]"
      ],
      "metadata": {
        "id": "Gtro-jkUlKob"
      },
      "execution_count": null,
      "outputs": []
    },
    {
      "cell_type": "code",
      "source": [
        "%%writefile app.py\n",
        "\n",
        "import streamlit as st\n",
        "from openai import OpenAI\n",
        "import json\n",
        "import requests\n",
        "\n",
        "API_KEY = \"\"\n",
        "weather_api_key= \"\"\n",
        "\n",
        "st.title(\"날씨봇🌤️\")\n",
        "\n",
        "# Set OpenAI API key from Streamlit secrets\n",
        "client = OpenAI(api_key=API_KEY)\n",
        "\n",
        "# Set a default model\n",
        "if \"openai_model\" not in st.session_state:\n",
        "    st.session_state.openai_model = \"gpt-3.5-turbo\"\n",
        "\n",
        "# Initialize chat history\n",
        "if \"messages\" not in st.session_state:\n",
        "    st.session_state.messages = [{\n",
        "      \"role\": \"system\",\n",
        "      \"content\": \"함수에 연결할 값을 가정하지 마세요.\\\n",
        "      사용자의 요청이 모호한 경우 설명을 요청하세요\\\n",
        "      한국어로 친절하게 이모지를 섞어서 답변해줘\"\n",
        "      }]\n",
        "\n",
        "\n",
        "def get_current_weather(location, format):\n",
        "    # Replace 'your_api_key_here' with your actual OpenWeatherMap API key\n",
        "    api_key = weather_api_key\n",
        "    # OpenWeatherMap API endpoint for current weather\n",
        "    base_url = \"http://api.openweathermap.org/data/2.5/weather?\"\n",
        "\n",
        "    # Convert the format to the corresponding unit system for the API request\n",
        "    units = 'metric' if format == 'celsius' else 'imperial'\n",
        "\n",
        "    # Construct the complete API URL with parameters\n",
        "    complete_url = f\"{base_url}appid={api_key}&q={location}&units={units}\"\n",
        "\n",
        "    # Perform the API request\n",
        "    response = requests.get(complete_url)\n",
        "\n",
        "    # Check if the request was successful\n",
        "    if response.status_code == 200:\n",
        "        # Parse the response JSON\n",
        "        data = response.json()\n",
        "\n",
        "        # Extract relevant weather information\n",
        "        temperature = data['main']['temp']\n",
        "        weather_description = data['weather'][0]['description']\n",
        "\n",
        "        # Construct a result string\n",
        "        result = (f\"'location:{location}, 'temperature':{temperature},'format':{format}, 'weather_description':{weather_description}\")\n",
        "        return result\n",
        "    else:\n",
        "        # Handle possible errors (e.g., location not found)\n",
        "        return \"Weather information could not be retrieved. Please check the location and try again.\"\n",
        "\n",
        "tools = [\n",
        "    {\n",
        "        \"type\": \"function\",\n",
        "        \"function\": {\n",
        "            \"name\": \"get_current_weather\",\n",
        "            \"description\": \"Get the current weather\",\n",
        "            \"parameters\": {\n",
        "                \"type\": \"object\",\n",
        "                \"properties\": {\n",
        "                    \"location\": {\n",
        "                        \"type\": \"string\",\n",
        "                        \"description\": \"The city and state, e.g. Seoul\",\n",
        "                    },\n",
        "                    \"format\": {\n",
        "                        \"type\": \"string\",\n",
        "                        \"enum\": [\"celsius\", \"fahrenheit\"],\n",
        "                        \"description\": \"The temperature unit to use. Infer this from the users location.\",\n",
        "                    },\n",
        "                },\n",
        "                \"required\": [\"location\", \"format\"],\n",
        "            },\n",
        "        }\n",
        "    }]\n",
        "\n",
        "\n",
        "# Display chat messages from history on app rerun\n",
        "for message in st.session_state.messages:\n",
        "    with st.chat_message(message[\"role\"]):\n",
        "        st.markdown(message[\"content\"])\n",
        "\n",
        "# Accept user input for chat\n",
        "if prompt := st.chat_input(\"날씨에 대해 물어보세요\"):\n",
        "    # Add user message to chat history\n",
        "    st.session_state.messages.append({\"role\": \"user\", \"content\": prompt})\n",
        "\n",
        "    # Display user message in chat message container\n",
        "    with st.chat_message(\"user\"):\n",
        "        st.markdown(prompt)\n",
        "\n",
        "    # Display assistant response in chat message container\n",
        "    with st.chat_message(\"assistant\"):\n",
        "        message_placeholder = st.empty()\n",
        "        full_response = \"\"\n",
        "        response = client.chat.completions.create(\n",
        "            model=st.session_state.openai_model,\n",
        "            messages=st.session_state.messages,\n",
        "            tools=tools,\n",
        "            )\n",
        "        response_message = response.choices[0].message\n",
        "        function_name = response_message.tool_calls[0].function.name\n",
        "        arguments = json.loads(response_message.tool_calls[0].function.arguments)\n",
        "# 함수에 인자값을 넣어 실행하기\n",
        "        function_response = eval(f\"{function_name}(**arguments)\")\n",
        "\n",
        "        st.session_state.messages.append({\n",
        "          \"role\":\"function\",\n",
        "          \"name\":function_name,\n",
        "          \"content\":function_response\n",
        "        })\n",
        "\n",
        "        # 여기부터 시작해야 댈듯\n",
        "        for response in client.chat.completions.create(\n",
        "            model=st.session_state.openai_model,\n",
        "            messages=st.session_state.messages,\n",
        "            tools = tools,\n",
        "            stream=True,\n",
        "        ):\n",
        "            full_response += (response.choices[0].delta.content or \"\")\n",
        "            message_placeholder.markdown(full_response + \"▌\")\n",
        "        message_placeholder.markdown(full_response)\n",
        "    st.session_state.messages.append({\"role\": \"assistant\", \"content\": full_response})\n"
      ],
      "metadata": {
        "id": "CChR6hDTlYnX"
      },
      "execution_count": null,
      "outputs": []
    },
    {
      "cell_type": "code",
      "source": [
        "!ps"
      ],
      "metadata": {
        "id": "9nf0CrnVlgez"
      },
      "execution_count": null,
      "outputs": []
    },
    {
      "cell_type": "code",
      "source": [
        "!kill <streamlit 번호>"
      ],
      "metadata": {
        "id": "L-52guQJlg57"
      },
      "execution_count": null,
      "outputs": []
    },
    {
      "cell_type": "code",
      "source": [
        "ngrok.kill()"
      ],
      "metadata": {
        "id": "QUBDAIT7lhfE"
      },
      "execution_count": null,
      "outputs": []
    }
  ]
}